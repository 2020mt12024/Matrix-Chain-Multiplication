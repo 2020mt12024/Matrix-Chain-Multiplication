{
 "cells": [
  {
   "cell_type": "code",
   "execution_count": 71,
   "metadata": {},
   "outputs": [],
   "source": [
    "# Importing numpy\n",
    "import numpy as np\n",
    "\n",
    "# Recursive method that will take parentheses array's 1st row & start, end indices\n",
    "# and will display the exact order of multiplication\n",
    "def parenthesize(arr, s, e):\n",
    "    if s == e:\n",
    "        return \"M\"+str(s+1)\n",
    "    elif e == s + 1:\n",
    "        return \"(M\"+str(s+1)+\" x M\"+str(e+1)+\")\"\n",
    "    else:\n",
    "        return \"(\"+parenthesize(arr, s, arr[e]-1) +\") x (\"+ parenthesize(arr, arr[e], e)+\")\""
   ]
  },
  {
   "cell_type": "code",
   "execution_count": 72,
   "metadata": {},
   "outputs": [],
   "source": [
    "d = np.array([3,2,4,2,5], dtype='int32') # Matrix dimension in compact form\n",
    "n = d.size - 1                           # No of Matrices \n",
    "c = np.zeros([n,n], dtype='int32')       # Cost matrix\n",
    "p = np.zeros([n,n], dtype='int32')       # Parenthesis matrix"
   ]
  },
  {
   "cell_type": "code",
   "execution_count": 73,
   "metadata": {},
   "outputs": [
    {
     "name": "stdout",
     "output_type": "stream",
     "text": [
      "Cost(min): 58\n",
      "Parethesized Multiplication: ((M1) x ((M2 x M3))) x (M4)\n"
     ]
    }
   ],
   "source": [
    "# Traverse only upper triangular portion in a diagonal fashion (-45 deg angle)\n",
    "i = 1\n",
    "j = 2\n",
    "prj = 2\n",
    "while i <= n and j <= n:\n",
    "    minc = np.prod(d)\n",
    "    for k in range(i,j):\n",
    "        ck = c[i-1,k-1] + c[k,j-1] + d[i-1]*d[k]*d[j]\n",
    "        if(ck < minc):\n",
    "            minc = ck\n",
    "            p[i-1,j-1] = k \n",
    "    c[i-1,j-1] = minc\n",
    "    # print(\"c[\"+str(i-1)+\",\"+str(j-1)+\"] = \"+str(c[i-1,j-1]))\n",
    "    i += 1\n",
    "    j += 1\n",
    "    if j > n and i != 2:\n",
    "        prj += 1\n",
    "        i = 1\n",
    "        j = prj\n",
    "print(\"Cost(min): \"+str(c[0,n-1]))\n",
    "print(\"Parethesized Multiplication: \"+parenthesize(p[0,:],0,n-1))"
   ]
  },
  {
   "cell_type": "code",
   "execution_count": null,
   "metadata": {},
   "outputs": [],
   "source": []
  }
 ],
 "metadata": {
  "kernelspec": {
   "display_name": "Python 3",
   "language": "python",
   "name": "python3"
  },
  "language_info": {
   "codemirror_mode": {
    "name": "ipython",
    "version": 3
   },
   "file_extension": ".py",
   "mimetype": "text/x-python",
   "name": "python",
   "nbconvert_exporter": "python",
   "pygments_lexer": "ipython3",
   "version": "3.8.5"
  }
 },
 "nbformat": 4,
 "nbformat_minor": 4
}
